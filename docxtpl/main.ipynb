{
 "cells": [
  {
   "cell_type": "code",
   "execution_count": 4,
   "metadata": {},
   "outputs": [],
   "source": [
    "import os\n",
    "import docx\n",
    "from docx.shared import Cm\n",
    "from docxtpl import DocxTemplate, InlineImage\n",
    "import pandas as pd\n",
    "import matplotlib.pyplot as plt\n",
    "\n",
    "# Load data\n",
    "os.chdir('C:\\\\Users\\\\jerem\\\\Desktop\\\\Data Analytics\\\\Visual Studio Code\\\\docxtpl')\n",
    "Template_File = DocxTemplate('Word_Template.docx')\n",
    "\n",
    "data = {'Column1': [1, 2, 3, 4],\n",
    "        'Column2': [4, 6, 5, 7]}\n",
    "\n",
    "data = pd.DataFrame(data)\n",
    "data.plot(x = \"Column1\", y = \"Column2\", kind = \"bar\")\n",
    "\n",
    "plt.savefig('chart.jpg')\n",
    "\n",
    "# Import saved figure\n",
    "image = InlineImage(Template_File,'chart.jpg', Cm(10))\n",
    "\n",
    "content = {'var_1': 'Chair',\n",
    "           'var_2': 'Hard and sturdy',\n",
    "           'var_3': '17 April 2023',\n",
    "           'var_4': '$20.95',\n",
    "           'var_5': '100',\n",
    "           'Chart1': image}\n",
    "\n",
    "Template_File.render(content)\n",
    "Template_File.save('Populated_Template.docx')"
   ]
  }
 ],
 "metadata": {
  "kernelspec": {
   "display_name": "Python 3",
   "language": "python",
   "name": "python3"
  },
  "language_info": {
   "codemirror_mode": {
    "name": "ipython",
    "version": 3
   },
   "file_extension": ".py",
   "mimetype": "text/x-python",
   "name": "python",
   "nbconvert_exporter": "python",
   "pygments_lexer": "ipython3",
   "version": "3.10.2"
  }
 },
 "nbformat": 4,
 "nbformat_minor": 2
}
