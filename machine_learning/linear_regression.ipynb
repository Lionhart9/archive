{
 "cells": [
  {
   "cell_type": "code",
   "execution_count": 6,
   "metadata": {},
   "outputs": [],
   "source": [
    "import pandas as pd\n",
    "import numpy as np\n",
    "import matplotlib.pyplot as plt\n",
    "\n",
    "data = {'Column1': [99, 86, 87, 88, 111, 86, 103, 87, 94, 78, 77, 85, 86],\n",
    "        'Column2': [5, 7, 8, 7, 2, 17, 2, 9, 4, 11, 12, 9, 6]\n",
    "}\n",
    "\n",
    "df = pd.DataFrame(data)"
   ]
  },
  {
   "cell_type": "code",
   "execution_count": 21,
   "metadata": {},
   "outputs": [
    {
     "name": "stdout",
     "output_type": "stream",
     "text": [
      "Mean:  89.76923076923077\n",
      "Median:  87.0\n",
      "Standard Deviation:  9.636336148089395\n",
      "Variance:  92.85897435897435\n",
      "Percentile 75th:  87.0\n"
     ]
    }
   ],
   "source": [
    "Mean = df['Column1'].mean()\n",
    "Median = df['Column1'].median()\n",
    "Stdev = df['Column1'].std()\n",
    "Variance = df['Column1'].var()\n",
    "Percentile_75 = df['Column1'].quantile(q = 0.75)\n",
    "\n",
    "print('Mean: ', Mean)\n",
    "print('Median: ', Median)\n",
    "print('Standard Deviation: ', Stdev)\n",
    "print('Variance: ', Variance)\n",
    "print('Percentile 75th: ', Percentile_75)\n"
   ]
  }
 ],
 "metadata": {
  "kernelspec": {
   "display_name": "Python 3",
   "language": "python",
   "name": "python3"
  },
  "language_info": {
   "codemirror_mode": {
    "name": "ipython",
    "version": 3
   },
   "file_extension": ".py",
   "mimetype": "text/x-python",
   "name": "python",
   "nbconvert_exporter": "python",
   "pygments_lexer": "ipython3",
   "version": "3.10.2"
  }
 },
 "nbformat": 4,
 "nbformat_minor": 2
}
