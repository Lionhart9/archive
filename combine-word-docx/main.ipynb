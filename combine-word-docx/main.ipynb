{
 "cells": [
  {
   "cell_type": "code",
   "execution_count": 2,
   "metadata": {},
   "outputs": [],
   "source": [
    "# pip install python-docx\n",
    "# pip install python-docx-template\n",
    "import os\n",
    "from docxcompose.composer import Composer\n",
    "from docx import Document as Document_compose\n",
    "\n",
    "os.chdir('C:\\\\Users\\\\jerem\\\\Desktop\\\\Data Analytics\\\\Visual Studio Code\\\\combine_word_docx')\n",
    "\n",
    "filename_master = 'Word_Template1.docx'\n",
    "filename_second_docx = 'Word_Template2.docx'\n",
    "#filename_master is name of the file to merge the docx file into\n",
    "master = Document_compose(filename_master)\n",
    "\n",
    "composer = Composer(master)\n",
    "#filename_second_docx is the name of the second docx file\n",
    "doc2 = Document_compose(filename_second_docx)\n",
    "master.add_page_break()\n",
    "\n",
    "# append the doc2 into the master using composer.append function\n",
    "composer.append(doc2)\n",
    "\n",
    "# Save the combined docx with a name\n",
    "composer.save(\"Combined_Word_Template.docx\")"
   ]
  }
 ],
 "metadata": {
  "kernelspec": {
   "display_name": "Python 3",
   "language": "python",
   "name": "python3"
  },
  "language_info": {
   "codemirror_mode": {
    "name": "ipython",
    "version": 3
   },
   "file_extension": ".py",
   "mimetype": "text/x-python",
   "name": "python",
   "nbconvert_exporter": "python",
   "pygments_lexer": "ipython3",
   "version": "3.10.2"
  }
 },
 "nbformat": 4,
 "nbformat_minor": 2
}
